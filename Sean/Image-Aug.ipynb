{
 "cells": [
  {
   "cell_type": "code",
   "execution_count": 1,
   "metadata": {},
   "outputs": [],
   "source": [
    "import tensorflow as tf\n",
    "import matplotlib.pyplot as plt\n",
    "import cv2\n",
    "from PIL import Image\n",
    "import numpy as np\n",
    "import pandas as pd\n",
    "import os\n",
    "import sys"
   ]
  },
  {
   "cell_type": "code",
   "execution_count": 2,
   "metadata": {},
   "outputs": [
    {
     "data": {
      "text/html": [
       "<div>\n",
       "<style scoped>\n",
       "    .dataframe tbody tr th:only-of-type {\n",
       "        vertical-align: middle;\n",
       "    }\n",
       "\n",
       "    .dataframe tbody tr th {\n",
       "        vertical-align: top;\n",
       "    }\n",
       "\n",
       "    .dataframe thead th {\n",
       "        text-align: right;\n",
       "    }\n",
       "</style>\n",
       "<table border=\"1\" class=\"dataframe\">\n",
       "  <thead>\n",
       "    <tr style=\"text-align: right;\">\n",
       "      <th></th>\n",
       "      <th>filename</th>\n",
       "      <th>label</th>\n",
       "    </tr>\n",
       "  </thead>\n",
       "  <tbody>\n",
       "    <tr>\n",
       "      <th>0</th>\n",
       "      <td>0.jpg</td>\n",
       "      <td>without_mask</td>\n",
       "    </tr>\n",
       "    <tr>\n",
       "      <th>1</th>\n",
       "      <td>1.jpg</td>\n",
       "      <td>without_mask</td>\n",
       "    </tr>\n",
       "    <tr>\n",
       "      <th>2</th>\n",
       "      <td>10.jpg</td>\n",
       "      <td>without_mask</td>\n",
       "    </tr>\n",
       "    <tr>\n",
       "      <th>3</th>\n",
       "      <td>100.jpg</td>\n",
       "      <td>without_mask</td>\n",
       "    </tr>\n",
       "    <tr>\n",
       "      <th>4</th>\n",
       "      <td>101.jpg</td>\n",
       "      <td>without_mask</td>\n",
       "    </tr>\n",
       "  </tbody>\n",
       "</table>\n",
       "</div>"
      ],
      "text/plain": [
       "  filename         label\n",
       "0    0.jpg  without_mask\n",
       "1    1.jpg  without_mask\n",
       "2   10.jpg  without_mask\n",
       "3  100.jpg  without_mask\n",
       "4  101.jpg  without_mask"
      ]
     },
     "execution_count": 2,
     "metadata": {},
     "output_type": "execute_result"
    }
   ],
   "source": [
    "labels = pd.read_csv(\"/Volumes/SEANDUAL/257-support/with-without-mask/archive/maskdata/maskdata/train_labels.csv\")   # loading the labels\n",
    "labels.head()           # will display the first five rows in labels dataframe"
   ]
  },
  {
   "cell_type": "code",
   "execution_count": 3,
   "metadata": {},
   "outputs": [],
   "source": [
    "file_paths = [[fname, '/Volumes/SEANDUAL/257-support/with-without-mask/archive/maskdata/maskdata/train/train/' + fname] for fname in labels['filename']]\n",
    "# file_paths"
   ]
  },
  {
   "cell_type": "code",
   "execution_count": 4,
   "metadata": {},
   "outputs": [
    {
     "data": {
      "text/html": [
       "<div>\n",
       "<style scoped>\n",
       "    .dataframe tbody tr th:only-of-type {\n",
       "        vertical-align: middle;\n",
       "    }\n",
       "\n",
       "    .dataframe tbody tr th {\n",
       "        vertical-align: top;\n",
       "    }\n",
       "\n",
       "    .dataframe thead th {\n",
       "        text-align: right;\n",
       "    }\n",
       "</style>\n",
       "<table border=\"1\" class=\"dataframe\">\n",
       "  <thead>\n",
       "    <tr style=\"text-align: right;\">\n",
       "      <th></th>\n",
       "      <th>filename</th>\n",
       "      <th>filepaths</th>\n",
       "    </tr>\n",
       "  </thead>\n",
       "  <tbody>\n",
       "    <tr>\n",
       "      <th>0</th>\n",
       "      <td>0.jpg</td>\n",
       "      <td>/Volumes/SEANDUAL/257-support/with-without-mas...</td>\n",
       "    </tr>\n",
       "    <tr>\n",
       "      <th>1</th>\n",
       "      <td>1.jpg</td>\n",
       "      <td>/Volumes/SEANDUAL/257-support/with-without-mas...</td>\n",
       "    </tr>\n",
       "    <tr>\n",
       "      <th>2</th>\n",
       "      <td>10.jpg</td>\n",
       "      <td>/Volumes/SEANDUAL/257-support/with-without-mas...</td>\n",
       "    </tr>\n",
       "    <tr>\n",
       "      <th>3</th>\n",
       "      <td>100.jpg</td>\n",
       "      <td>/Volumes/SEANDUAL/257-support/with-without-mas...</td>\n",
       "    </tr>\n",
       "    <tr>\n",
       "      <th>4</th>\n",
       "      <td>101.jpg</td>\n",
       "      <td>/Volumes/SEANDUAL/257-support/with-without-mas...</td>\n",
       "    </tr>\n",
       "  </tbody>\n",
       "</table>\n",
       "</div>"
      ],
      "text/plain": [
       "  filename                                          filepaths\n",
       "0    0.jpg  /Volumes/SEANDUAL/257-support/with-without-mas...\n",
       "1    1.jpg  /Volumes/SEANDUAL/257-support/with-without-mas...\n",
       "2   10.jpg  /Volumes/SEANDUAL/257-support/with-without-mas...\n",
       "3  100.jpg  /Volumes/SEANDUAL/257-support/with-without-mas...\n",
       "4  101.jpg  /Volumes/SEANDUAL/257-support/with-without-mas..."
      ]
     },
     "execution_count": 4,
     "metadata": {},
     "output_type": "execute_result"
    }
   ],
   "source": [
    "images = pd.DataFrame(file_paths, columns=['filename', 'filepaths'])\n",
    "images.head()"
   ]
  },
  {
   "cell_type": "code",
   "execution_count": 5,
   "metadata": {},
   "outputs": [
    {
     "data": {
      "text/html": [
       "<div>\n",
       "<style scoped>\n",
       "    .dataframe tbody tr th:only-of-type {\n",
       "        vertical-align: middle;\n",
       "    }\n",
       "\n",
       "    .dataframe tbody tr th {\n",
       "        vertical-align: top;\n",
       "    }\n",
       "\n",
       "    .dataframe thead th {\n",
       "        text-align: right;\n",
       "    }\n",
       "</style>\n",
       "<table border=\"1\" class=\"dataframe\">\n",
       "  <thead>\n",
       "    <tr style=\"text-align: right;\">\n",
       "      <th></th>\n",
       "      <th>filename</th>\n",
       "      <th>filepaths</th>\n",
       "      <th>label</th>\n",
       "    </tr>\n",
       "  </thead>\n",
       "  <tbody>\n",
       "    <tr>\n",
       "      <th>0</th>\n",
       "      <td>0.jpg</td>\n",
       "      <td>/Volumes/SEANDUAL/257-support/with-without-mas...</td>\n",
       "      <td>without_mask</td>\n",
       "    </tr>\n",
       "    <tr>\n",
       "      <th>1</th>\n",
       "      <td>1.jpg</td>\n",
       "      <td>/Volumes/SEANDUAL/257-support/with-without-mas...</td>\n",
       "      <td>without_mask</td>\n",
       "    </tr>\n",
       "    <tr>\n",
       "      <th>2</th>\n",
       "      <td>10.jpg</td>\n",
       "      <td>/Volumes/SEANDUAL/257-support/with-without-mas...</td>\n",
       "      <td>without_mask</td>\n",
       "    </tr>\n",
       "    <tr>\n",
       "      <th>3</th>\n",
       "      <td>100.jpg</td>\n",
       "      <td>/Volumes/SEANDUAL/257-support/with-without-mas...</td>\n",
       "      <td>without_mask</td>\n",
       "    </tr>\n",
       "    <tr>\n",
       "      <th>4</th>\n",
       "      <td>101.jpg</td>\n",
       "      <td>/Volumes/SEANDUAL/257-support/with-without-mas...</td>\n",
       "      <td>without_mask</td>\n",
       "    </tr>\n",
       "  </tbody>\n",
       "</table>\n",
       "</div>"
      ],
      "text/plain": [
       "  filename                                          filepaths         label\n",
       "0    0.jpg  /Volumes/SEANDUAL/257-support/with-without-mas...  without_mask\n",
       "1    1.jpg  /Volumes/SEANDUAL/257-support/with-without-mas...  without_mask\n",
       "2   10.jpg  /Volumes/SEANDUAL/257-support/with-without-mas...  without_mask\n",
       "3  100.jpg  /Volumes/SEANDUAL/257-support/with-without-mas...  without_mask\n",
       "4  101.jpg  /Volumes/SEANDUAL/257-support/with-without-mas...  without_mask"
      ]
     },
     "execution_count": 5,
     "metadata": {},
     "output_type": "execute_result"
    }
   ],
   "source": [
    "train_data = pd.merge(images, labels, how = 'inner', on = 'filename')\n",
    "train_data.head()  "
   ]
  },
  {
   "cell_type": "code",
   "execution_count": 6,
   "metadata": {},
   "outputs": [],
   "source": [
    "data = []             # initialize an empty numpy array\n",
    "image_size = 100      # image size taken is 100 here. one can take other size too\n",
    "for i in range(len(train_data)):\n",
    "    img_array = cv2.imread(train_data['filepaths'][i])   # Uses BGR instead of RGB, have to change it back..\n",
    "    img_array = cv2.cvtColor(img_array, cv2.COLOR_BGR2RGB)           # converting to RGB\n",
    "    new_img_array = cv2.resize(img_array, (image_size, image_size))      # resizing the image array\n",
    "    # encoding the labels. with_mask = 1 and without_mask =  0\n",
    "    if train_data['label'][i] == 'with_mask':\n",
    "        data.append([new_img_array, 1])\n",
    "    else:\n",
    "        data.append([new_img_array, 0])"
   ]
  },
  {
   "cell_type": "code",
   "execution_count": 7,
   "metadata": {},
   "outputs": [
    {
     "data": {
      "text/plain": [
       "(100, 100, 3)"
      ]
     },
     "execution_count": 7,
     "metadata": {},
     "output_type": "execute_result"
    }
   ],
   "source": [
    "# The shape of an image array\n",
    "data = np.array(data)\n",
    "data[0][0].shape  # think of it as 2d array with every element consist of 3 element rgb"
   ]
  },
  {
   "cell_type": "code",
   "execution_count": 8,
   "metadata": {},
   "outputs": [
    {
     "data": {
      "text/plain": [
       "<matplotlib.image.AxesImage at 0x7fa60ebef890>"
      ]
     },
     "execution_count": 8,
     "metadata": {},
     "output_type": "execute_result"
    },
    {
     "data": {
      "image/png": "[encoded data removed]",
      "text/plain": [
       "<Figure size 432x288 with 1 Axes>"
      ]
     },
     "metadata": {
      "needs_background": "light"
     },
     "output_type": "display_data"
    }
   ],
   "source": [
    "plt.imshow(data[0][0])"
   ]
  },
  {
   "cell_type": "code",
   "execution_count": 9,
   "metadata": {},
   "outputs": [],
   "source": [
    "# try to use batch, a_data is an array of only 2d arrays(no label)\n",
    "a_data = []\n",
    "for i in data:\n",
    "    if i[1] == 0:\n",
    "        a_data.append([i[0].reshape((1,) + i[0].shape), 0])\n",
    "    else:\n",
    "        a_data.append([i[0].reshape((1,) + i[0].shape), 1])"
   ]
  },
  {
   "cell_type": "code",
   "execution_count": 11,
   "metadata": {},
   "outputs": [],
   "source": [
    "# create folders for augmented images\n",
    "# and augment the images without mask\n",
    "number_to_aug = 4\n",
    "folder, subfolder1, subfolder2 = \"AUG-Train\", 'Train-NoMask', 'Train-Mask'\n",
    "os.makedirs(folder)\n",
    "os.mkdir(os.path.join('AUG-Train', subfolder1))\n",
    "os.mkdir(os.path.join(folder, subfolder2))\n",
    "for img, k in zip(a_data, range(sys.maxsize)):\n",
    "    datagen = tf.keras.preprocessing.image.ImageDataGenerator(\n",
    "            rotation_range=60,\n",
    "            horizontal_flip=True)\n",
    "    datagen.fit(img[0])\n",
    "    if img[1] == 0:\n",
    "        for batch, i in zip(datagen.flow(img[0], batch_size=1, save_to_dir=os.path.join(folder, subfolder1), save_prefix='nomask'+str(k), save_format='jpeg'), range(number_to_aug)):\n",
    "            pass\n",
    "    else:\n",
    "        for batch, i in zip(datagen.flow(img[0], batch_size=1, save_to_dir=os.path.join(folder, subfolder2), save_prefix='mask'+str(k), save_format='jpeg'), range(number_to_aug)):\n",
    "            pass"
   ]
  },
  {
   "cell_type": "code",
   "execution_count": null,
   "metadata": {},
   "outputs": [],
   "source": []
  }
 ],
 "metadata": {
  "kernelspec": {
   "display_name": "Python 3",
   "language": "python",
   "name": "python3"
  },
  "language_info": {
   "codemirror_mode": {
    "name": "ipython",
    "version": 3
   },
   "file_extension": ".py",
   "mimetype": "text/x-python",
   "name": "python",
   "nbconvert_exporter": "python",
   "pygments_lexer": "ipython3",
   "version": "3.7.6"
  }
 },
 "nbformat": 4,
 "nbformat_minor": 4
}
